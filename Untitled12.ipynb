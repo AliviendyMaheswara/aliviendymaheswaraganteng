{
 "cells": [
  {
   "cell_type": "code",
   "execution_count": 7,
   "id": "6d05b7bb-750b-476b-9cea-6e8b447b7aee",
   "metadata": {},
   "outputs": [
    {
     "name": "stdin",
     "output_type": "stream",
     "text": [
      "Sisi A:  1\n",
      "Sisi B:  2\n",
      "Sisi C:  2\n"
     ]
    },
    {
     "name": "stdout",
     "output_type": "stream",
     "text": [
      "Segitiga sama kaki\n"
     ]
    }
   ],
   "source": [
    "a=int(input(\"Sisi A: \"))\n",
    "b=int(input(\"Sisi B: \"))\n",
    "c=int(input(\"Sisi C: \"))\n",
    "\n",
    "if a==b==c:\n",
    " print('Segitiga Sama Sisi')\n",
    "elif a!=b!=c:\n",
    " print('Segitiga sembarang')\n",
    "elif a==b!=c or a!=b==c:\n",
    " print('Segitiga sama kaki')\n",
    "else:\n",
    " print('End')\n"
   ]
  },
  {
   "cell_type": "code",
   "execution_count": 44,
   "id": "d667dd6b-aea9-4d53-884b-38b55f2a34bb",
   "metadata": {},
   "outputs": [
    {
     "name": "stdin",
     "output_type": "stream",
     "text": [
      "sisi a:  6\n",
      "sisi b:  6\n",
      "sisi c:  9\n"
     ]
    },
    {
     "name": "stdout",
     "output_type": "stream",
     "text": [
      "segitiga sama kaki\n"
     ]
    }
   ],
   "source": [
    "a=int(input('sisi a: '))\n",
    "b=int(input('sisi b: '))\n",
    "c=int(input('sisi c: '))\n",
    "\n",
    "if a==b==c:\n",
    "    print('segitiga sama sisi')\n",
    "elif a==b or b==c or a==c:\n",
    "    print('segitiga sama kaki')\n",
    "elif a**2+b**2==c**2 or b**2+c**2==a**2 or a**2+c**2==b**2:\n",
    "    print('segitiga siku siku')\n",
    "elif a+b<=c or a+c<=b or b+c<=a:\n",
    "    print('segitiga tidak valid')\n",
    "else:\n",
    "    print('segitiga sembarang')\n",
    "    \n"
   ]
  },
  {
   "cell_type": "code",
   "execution_count": null,
   "id": "58375687-ed3a-4722-9822-f66ca5456b7e",
   "metadata": {},
   "outputs": [],
   "source": []
  },
  {
   "cell_type": "code",
   "execution_count": null,
   "id": "9a2096d5-2428-4b35-9245-50b5a05664ff",
   "metadata": {},
   "outputs": [],
   "source": []
  }
 ],
 "metadata": {
  "kernelspec": {
   "display_name": "Python 3 (ipykernel)",
   "language": "python",
   "name": "python3"
  },
  "language_info": {
   "codemirror_mode": {
    "name": "ipython",
    "version": 3
   },
   "file_extension": ".py",
   "mimetype": "text/x-python",
   "name": "python",
   "nbconvert_exporter": "python",
   "pygments_lexer": "ipython3",
   "version": "3.12.4"
  }
 },
 "nbformat": 4,
 "nbformat_minor": 5
}
